{
 "cells": [
  {
   "cell_type": "markdown",
   "metadata": {},
   "source": [
    "# QMNIST classification and model analysis with confusion matrix"
   ]
  },
  {
   "cell_type": "markdown",
   "metadata": {},
   "source": [
    "## QMNIST dataset\n",
    "paper about QMNIST dataset: https://arxiv.org/pdf/1905.10498.pdf\n",
    "\n",
    "## Outline:\n",
    "\n",
    "1. Prepare your data\n",
    "\n",
    "2. Print data\n",
    "\n",
    "3. Create Linear classifier\n",
    "\n",
    "4. Create Non-linear classifier\n",
    "\n",
    "5. Train created models using QMNIST data\n",
    "\n",
    "6. Visualize learned filters from Linear and Non-linear model\n",
    "\n",
    "7. Report test accuracy of both models and analyze confusion matrices\n",
    "\n",
    "## 1. Prepare your data\n",
    "\n",
    "We have prepared the pickle file which can be downloaded using the link below.\n",
    "\n",
    "The pickle file is a dict with the keys representing train / test data and labels.\n",
    "\n",
    "It should be pretty similar to MNIST code we used in the lab."
   ]
  },
  {
   "cell_type": "code",
   "execution_count": 1,
   "metadata": {
    "collapsed": true,
    "jupyter": {
     "outputs_hidden": true
    }
   },
   "outputs": [
    {
     "name": "stdout",
     "output_type": "stream",
     "text": [
      "--2020-03-13 09:23:57--  https://nyu.box.com/shared/static/4914fnt7z3obeupe9xyn7idzz9rsjg4x.pkl\n",
      "Resolving nyu.box.com (nyu.box.com)... 107.152.26.197, 107.152.27.197\n",
      "Connecting to nyu.box.com (nyu.box.com)|107.152.26.197|:443... connected.\n",
      "HTTP request sent, awaiting response... 301 Moved Permanently\n",
      "Location: /public/static/4914fnt7z3obeupe9xyn7idzz9rsjg4x.pkl [following]\n",
      "--2020-03-13 09:23:58--  https://nyu.box.com/public/static/4914fnt7z3obeupe9xyn7idzz9rsjg4x.pkl\n",
      "Reusing existing connection to nyu.box.com:443.\n",
      "HTTP request sent, awaiting response... 301 Moved Permanently\n",
      "Location: https://nyu.app.box.com/public/static/4914fnt7z3obeupe9xyn7idzz9rsjg4x.pkl [following]\n",
      "--2020-03-13 09:23:58--  https://nyu.app.box.com/public/static/4914fnt7z3obeupe9xyn7idzz9rsjg4x.pkl\n",
      "Resolving nyu.app.box.com (nyu.app.box.com)... 107.152.27.199, 107.152.26.199\n",
      "Connecting to nyu.app.box.com (nyu.app.box.com)|107.152.27.199|:443... connected.\n",
      "HTTP request sent, awaiting response... 302 Found\n",
      "Location: https://public.boxcloud.com/d/1/b1!mIMS163K5Lvq-zaAhWvoxQ5n6OPMetfjShUlXWcPZug4v9kGr8xEnQSXrbML8JzMrAhdlp1EkguQpEP9btQGqHL3UfUO4laFL26sso6bigPzbH4GN8OI8BHT5XX692Knfmf68IYqcZQTAVMgbFSuZRVTdPQBgRarkcHWyY_6r6J7ZMBuTIqMx9Pmbv0LWkZPTxvbkYNewnEJNNWazHKco85eIVSRx4D5SL2jysZ6SSORo-xBMTb6clKAnbRYuPOrOXnYvDu0GDii-dQE5fAaO35jmOP85fIbpL0dr0ZBwZwnp_1RyM-JSPjvJ24VwT-fv0wX09ZHYBdEX0lGAr_bg-cWqkVL5jbjAUR1fwPgo0NomhjuWjhg2FjDrsqjKKb-BH5ShfBdUdp4KcDVnJ-KHTIMd__rIgRVqblIDpUIqXzktR6bPxhXF6svThznTTZyZqEef6nL-x3YDM1VmISl8GLcQQm2WCDvWSxZ-G27pIslqfSFcu1lSex7w1rsaoynRtMKf-5c7sqJZYq2Ftb036Rpw6fEGV7B1upiP2ZhOY6vATsXXGYAAYYnRNyBGw6wvW8l8c78X0Ql0Ca9ibzR7jRYfmcURAEQKJy4J7kwVu4mxPmQBYi_-jivyAoEQZICkTyt10omefWFONcUhDJBd_AwcPGVO5gK4dUl_qHmV8yzD9YZw23KCk1Vj2Y1vNgjO6TRoBtMpzPKMbix6x_G9EQmDOBKpaifsg9jMAgpzdI21qnjEzlrlNcMU7Ot1hOOFTkgAt5Wif-g609gn8oHHr5rCD3O-PCM0_rCcaA-mOtRz0CYQ1UrtsQ3VWACTUnc9fsbo5meSXIQc53DE3vmCICdK_J_d9yI1qWQsXn9Trdb87EdNuMm3K7qLHu8IRxU3usE-4es2_BNDvHN9vYGgJDegCmt-PKMqKKqioh2x1KogQ-nEh_8GZfUW-HIi66yOuk6dhPtxW357TtTfhBrm4VDz-bW4nUi_gILx750ZixR7W71IQqya3mZgOO0wzMuFTCQsnr6MvVl3T2p7yZeLStDIq0y83gkH-Iw2Xcboqs1f21069KmonsGCIJ9xdVwSWU_8KDe6wks7gn_t0VYH1IYTghq359m9b1nhyRoj9QCAPa2aMHSoTEd4Hkm9IoHYGsk7qZlsZsTc50-Kiuuovz-iOQBvE8RCCZU4DsZRwqWOn3X2d0yDiF951W3FzMgbPJIjzV6FPFPeiyB6ETENE3uBkF4DS8UFH9gJVy-xMO0QkXMO5-QeUgoRD3hoXTje_Ep5XpuPWbeBn1afYLSj_e5KlU85nxgO91zHwHD582m_eTFzDkfA7z4qh8hwKeGGgG8_U8FCvUNZkSwWBa6W0zctfpBqrBoUn1BlbaVj8K2dWjDB2Ugvwmg5w../download [following]\n",
      "--2020-03-13 09:23:59--  https://public.boxcloud.com/d/1/b1!mIMS163K5Lvq-zaAhWvoxQ5n6OPMetfjShUlXWcPZug4v9kGr8xEnQSXrbML8JzMrAhdlp1EkguQpEP9btQGqHL3UfUO4laFL26sso6bigPzbH4GN8OI8BHT5XX692Knfmf68IYqcZQTAVMgbFSuZRVTdPQBgRarkcHWyY_6r6J7ZMBuTIqMx9Pmbv0LWkZPTxvbkYNewnEJNNWazHKco85eIVSRx4D5SL2jysZ6SSORo-xBMTb6clKAnbRYuPOrOXnYvDu0GDii-dQE5fAaO35jmOP85fIbpL0dr0ZBwZwnp_1RyM-JSPjvJ24VwT-fv0wX09ZHYBdEX0lGAr_bg-cWqkVL5jbjAUR1fwPgo0NomhjuWjhg2FjDrsqjKKb-BH5ShfBdUdp4KcDVnJ-KHTIMd__rIgRVqblIDpUIqXzktR6bPxhXF6svThznTTZyZqEef6nL-x3YDM1VmISl8GLcQQm2WCDvWSxZ-G27pIslqfSFcu1lSex7w1rsaoynRtMKf-5c7sqJZYq2Ftb036Rpw6fEGV7B1upiP2ZhOY6vATsXXGYAAYYnRNyBGw6wvW8l8c78X0Ql0Ca9ibzR7jRYfmcURAEQKJy4J7kwVu4mxPmQBYi_-jivyAoEQZICkTyt10omefWFONcUhDJBd_AwcPGVO5gK4dUl_qHmV8yzD9YZw23KCk1Vj2Y1vNgjO6TRoBtMpzPKMbix6x_G9EQmDOBKpaifsg9jMAgpzdI21qnjEzlrlNcMU7Ot1hOOFTkgAt5Wif-g609gn8oHHr5rCD3O-PCM0_rCcaA-mOtRz0CYQ1UrtsQ3VWACTUnc9fsbo5meSXIQc53DE3vmCICdK_J_d9yI1qWQsXn9Trdb87EdNuMm3K7qLHu8IRxU3usE-4es2_BNDvHN9vYGgJDegCmt-PKMqKKqioh2x1KogQ-nEh_8GZfUW-HIi66yOuk6dhPtxW357TtTfhBrm4VDz-bW4nUi_gILx750ZixR7W71IQqya3mZgOO0wzMuFTCQsnr6MvVl3T2p7yZeLStDIq0y83gkH-Iw2Xcboqs1f21069KmonsGCIJ9xdVwSWU_8KDe6wks7gn_t0VYH1IYTghq359m9b1nhyRoj9QCAPa2aMHSoTEd4Hkm9IoHYGsk7qZlsZsTc50-Kiuuovz-iOQBvE8RCCZU4DsZRwqWOn3X2d0yDiF951W3FzMgbPJIjzV6FPFPeiyB6ETENE3uBkF4DS8UFH9gJVy-xMO0QkXMO5-QeUgoRD3hoXTje_Ep5XpuPWbeBn1afYLSj_e5KlU85nxgO91zHwHD582m_eTFzDkfA7z4qh8hwKeGGgG8_U8FCvUNZkSwWBa6W0zctfpBqrBoUn1BlbaVj8K2dWjDB2Ugvwmg5w../download\n",
      "Resolving public.boxcloud.com (public.boxcloud.com)... 107.152.27.200\n",
      "Connecting to public.boxcloud.com (public.boxcloud.com)|107.152.27.200|:443... connected.\n",
      "HTTP request sent, awaiting response... 200 OK\n",
      "Length: 87120409 (83M) [application/octet-stream]\n",
      "Saving to: ‘./qmnist.pkl’\n",
      "\n",
      "./qmnist.pkl        100%[===================>]  83.08M  24.4MB/s    in 3.5s    \n",
      "\n",
      "2020-03-13 09:24:03 (23.9 MB/s) - ‘./qmnist.pkl’ saved [87120409/87120409]\n",
      "\n"
     ]
    }
   ],
   "source": [
    "# downloading code for you\n",
    "! wget https://nyu.box.com/shared/static/4914fnt7z3obeupe9xyn7idzz9rsjg4x.pkl -O ./qmnist.pkl\n"
   ]
  },
  {
   "cell_type": "code",
   "execution_count": 1,
   "metadata": {},
   "outputs": [],
   "source": [
    "import pickle\n",
    "import numpy as np\n",
    "import matplotlib.pyplot as plt\n",
    "from sklearn.linear_model import LogisticRegression\n",
    "from sklearn.neural_network import MLPClassifier\n",
    "from sklearn.datasets import fetch_openml\n",
    "from sklearn.metrics import confusion_matrix\n"
   ]
  },
  {
   "cell_type": "code",
   "execution_count": 2,
   "metadata": {},
   "outputs": [
    {
     "name": "stdout",
     "output_type": "stream",
     "text": [
      "train_data\n",
      "train_labels\n",
      "test_data\n",
      "test_labels\n"
     ]
    }
   ],
   "source": [
    "# check the keys of the dict in pickle file\n",
    "file_name = './qmnist.pkl'\n",
    "mnist = pickle.load(open(file_name, \"rb\"))\n",
    "for key in mnist:\n",
    "    print(key)\n",
    "\n",
    "# prepare your data\n",
    "# put your code here...\n",
    "\n",
    "train_data = mnist['train_data']\n",
    "train_labels = mnist['train_labels']\n",
    "\n",
    "test_data = mnist['test_data']\n",
    "test_labels = mnist['test_labels']"
   ]
  },
  {
   "cell_type": "markdown",
   "metadata": {},
   "source": [
    "## 2. Print data\n",
    "\n",
    "Print five examples from the training part of QMNIST. Feel free to reuse the code from the lab"
   ]
  },
  {
   "cell_type": "code",
   "execution_count": 3,
   "metadata": {},
   "outputs": [
    {
     "data": {
      "image/png": "[encoded data removed]",
      "text/plain": [
       "<Figure size 432x288 with 1 Axes>"
      ]
     },
     "metadata": {
      "needs_background": "light"
     },
     "output_type": "display_data"
    },
    {
     "data": {
      "image/png": "[encoded data removed]",
      "text/plain": [
       "<Figure size 432x288 with 1 Axes>"
      ]
     },
     "metadata": {
      "needs_background": "light"
     },
     "output_type": "display_data"
    },
    {
     "data": {
      "image/png": "[encoded data removed]",
      "text/plain": [
       "<Figure size 432x288 with 1 Axes>"
      ]
     },
     "metadata": {
      "needs_background": "light"
     },
     "output_type": "display_data"
    },
    {
     "data": {
      "image/png": "[encoded data removed]",
      "text/plain": [
       "<Figure size 432x288 with 1 Axes>"
      ]
     },
     "metadata": {
      "needs_background": "light"
     },
     "output_type": "display_data"
    },
    {
     "data": {
      "image/png": "[encoded data removed]",
      "text/plain": [
       "<Figure size 432x288 with 1 Axes>"
      ]
     },
     "metadata": {
      "needs_background": "light"
     },
     "output_type": "display_data"
    }
   ],
   "source": [
    "# code from this section derived from : https://stackoverflow.com/questions/37228371/visualize-mnist-dataset-using-opencv-or-matplotlib-pyplot\n",
    "# NOTE WHEN RUNNING: sometime it takes running this cell twice for it to output the sample numbers\n",
    "\n",
    "# put your code here ...\n",
    "for i in range(5):\n",
    "    pixels = train_data[i]\n",
    "    pixels = np.array(pixels, dtype='uint8')\n",
    "    \n",
    "    # reshape array\n",
    "    pixels = pixels.reshape((28, 28))\n",
    "    \n",
    "    plt.title('Label is {label}'.format(label=train_labels[i]))\n",
    "    plt.imshow(pixels, cmap='gray')\n",
    "    plt.show()\n",
    "    "
   ]
  },
  {
   "cell_type": "markdown",
   "metadata": {},
   "source": [
    "## 3. Create *Linear* classfier using sklearn\n",
    "\n",
    "Create a model with sklearn.\n"
   ]
  },
  {
   "cell_type": "code",
   "execution_count": 4,
   "metadata": {},
   "outputs": [],
   "source": [
    "random_seed = 1\n",
    "\n",
    "# define a model\n",
    "model = LogisticRegression(tol=1e-3, solver = 'lbfgs', random_state = random_seed)\n"
   ]
  },
  {
   "cell_type": "markdown",
   "metadata": {},
   "source": [
    "## 4. Create *Non-linear* classifier using sklearn\n",
    "\n",
    "Create a model with sklearn. "
   ]
  },
  {
   "cell_type": "code",
   "execution_count": 5,
   "metadata": {},
   "outputs": [],
   "source": [
    "#define model\n",
    "model2 = MLPClassifier(solver = 'sgd', learning_rate_init=.0001, hidden_layer_sizes=(784,), max_iter = 100, random_state = random_seed)\n",
    "\n"
   ]
  },
  {
   "cell_type": "markdown",
   "metadata": {},
   "source": [
    "## 5. Train created models using QMNIST data\n",
    "\n",
    "Train the model."
   ]
  },
  {
   "cell_type": "code",
   "execution_count": 6,
   "metadata": {},
   "outputs": [
    {
     "name": "stderr",
     "output_type": "stream",
     "text": [
      "//anaconda3/lib/python3.7/site-packages/sklearn/linear_model/logistic.py:469: FutureWarning: Default multi_class will be changed to 'auto' in 0.22. Specify the multi_class option to silence this warning.\n",
      "  \"this warning.\", FutureWarning)\n",
      "//anaconda3/lib/python3.7/site-packages/sklearn/linear_model/logistic.py:947: ConvergenceWarning: lbfgs failed to converge. Increase the number of iterations.\n",
      "  \"of iterations.\", ConvergenceWarning)\n",
      "//anaconda3/lib/python3.7/site-packages/sklearn/linear_model/logistic.py:947: ConvergenceWarning: lbfgs failed to converge. Increase the number of iterations.\n",
      "  \"of iterations.\", ConvergenceWarning)\n",
      "//anaconda3/lib/python3.7/site-packages/sklearn/linear_model/logistic.py:947: ConvergenceWarning: lbfgs failed to converge. Increase the number of iterations.\n",
      "  \"of iterations.\", ConvergenceWarning)\n",
      "//anaconda3/lib/python3.7/site-packages/sklearn/linear_model/logistic.py:947: ConvergenceWarning: lbfgs failed to converge. Increase the number of iterations.\n",
      "  \"of iterations.\", ConvergenceWarning)\n",
      "//anaconda3/lib/python3.7/site-packages/sklearn/linear_model/logistic.py:947: ConvergenceWarning: lbfgs failed to converge. Increase the number of iterations.\n",
      "  \"of iterations.\", ConvergenceWarning)\n",
      "//anaconda3/lib/python3.7/site-packages/sklearn/linear_model/logistic.py:947: ConvergenceWarning: lbfgs failed to converge. Increase the number of iterations.\n",
      "  \"of iterations.\", ConvergenceWarning)\n",
      "//anaconda3/lib/python3.7/site-packages/sklearn/linear_model/logistic.py:947: ConvergenceWarning: lbfgs failed to converge. Increase the number of iterations.\n",
      "  \"of iterations.\", ConvergenceWarning)\n",
      "//anaconda3/lib/python3.7/site-packages/sklearn/linear_model/logistic.py:947: ConvergenceWarning: lbfgs failed to converge. Increase the number of iterations.\n",
      "  \"of iterations.\", ConvergenceWarning)\n",
      "//anaconda3/lib/python3.7/site-packages/sklearn/linear_model/logistic.py:947: ConvergenceWarning: lbfgs failed to converge. Increase the number of iterations.\n",
      "  \"of iterations.\", ConvergenceWarning)\n",
      "//anaconda3/lib/python3.7/site-packages/sklearn/linear_model/logistic.py:947: ConvergenceWarning: lbfgs failed to converge. Increase the number of iterations.\n",
      "  \"of iterations.\", ConvergenceWarning)\n"
     ]
    },
    {
     "data": {
      "text/plain": [
       "LogisticRegression(C=1.0, class_weight=None, dual=False, fit_intercept=True,\n",
       "                   intercept_scaling=1, l1_ratio=None, max_iter=100,\n",
       "                   multi_class='warn', n_jobs=None, penalty='l2',\n",
       "                   random_state=1, solver='lbfgs', tol=0.001, verbose=0,\n",
       "                   warm_start=False)"
      ]
     },
     "execution_count": 6,
     "metadata": {},
     "output_type": "execute_result"
    }
   ],
   "source": [
    "# do training for linear classified model\n",
    "model.fit(train_data, train_labels)"
   ]
  },
  {
   "cell_type": "code",
   "execution_count": 7,
   "metadata": {},
   "outputs": [
    {
     "name": "stdout",
     "output_type": "stream",
     "text": [
      "Training-Set Analysis\n",
      "0.92625\n",
      "Validation-Set Analysis\n",
      "0.91236\n"
     ]
    }
   ],
   "source": [
    "# examine how well model scores on training data\n",
    "s1 = model.score(train_data, train_labels)\n",
    "\n",
    "print(\"Training-Set Analysis\")\n",
    "print(s1)\n",
    "\n",
    "# do validation\n",
    "s2 = model.score(test_data, test_labels)\n",
    "\n",
    "print(\"Validation-Set Analysis\")\n",
    "print(s2)"
   ]
  },
  {
   "cell_type": "code",
   "execution_count": 8,
   "metadata": {},
   "outputs": [
    {
     "data": {
      "text/plain": [
       "MLPClassifier(activation='relu', alpha=0.0001, batch_size='auto', beta_1=0.9,\n",
       "              beta_2=0.999, early_stopping=False, epsilon=1e-08,\n",
       "              hidden_layer_sizes=(784,), learning_rate='constant',\n",
       "              learning_rate_init=0.0001, max_iter=100, momentum=0.9,\n",
       "              n_iter_no_change=10, nesterovs_momentum=True, power_t=0.5,\n",
       "              random_state=1, shuffle=True, solver='sgd', tol=0.0001,\n",
       "              validation_fraction=0.1, verbose=False, warm_start=False)"
      ]
     },
     "execution_count": 8,
     "metadata": {},
     "output_type": "execute_result"
    }
   ],
   "source": [
    "# do training for non-linear classifier model\n",
    "model2.fit(train_data, train_labels)"
   ]
  },
  {
   "cell_type": "code",
   "execution_count": 9,
   "metadata": {},
   "outputs": [
    {
     "name": "stdout",
     "output_type": "stream",
     "text": [
      "Training-Set Analysis\n",
      "1.0\n",
      "Validation-Set Analysis\n",
      "0.95492\n"
     ]
    }
   ],
   "source": [
    "# examine how well model scores on training data\n",
    "s1 = model2.score(train_data, train_labels)\n",
    "\n",
    "print(\"Training-Set Analysis\")\n",
    "print(s1)\n",
    "\n",
    "# do validation\n",
    "s2 = model2.score(test_data, test_labels)\n",
    "\n",
    "print(\"Validation-Set Analysis\")\n",
    "print(s2)"
   ]
  },
  {
   "cell_type": "markdown",
   "metadata": {},
   "source": [
    "Note that a 1.0 accuracy on training-set could potentially be a red flag for over fitting. However, since the validation set has an accuracy >90% the model is likely good."
   ]
  },
  {
   "cell_type": "markdown",
   "metadata": {},
   "source": [
    "## 6. Visualize learned filters from Linear and Non-linear model\n",
    "\n",
    "Visualize filters (learned weights) similar to what you saw in lab. Sklearn docs have some examples of doing this for non-linear model. For non-linear model you can represent some rows from the first layer of the neural network (since there are more than 10 of such rows, you can use first 10 rows)."
   ]
  },
  {
   "cell_type": "code",
   "execution_count": 10,
   "metadata": {},
   "outputs": [
    {
     "data": {
      "image/png": "[encoded data removed]",
      "text/plain": [
       "<Figure size 432x288 with 10 Axes>"
      ]
     },
     "metadata": {
      "needs_background": "light"
     },
     "output_type": "display_data"
    }
   ],
   "source": [
    "# visualization of linear model\n",
    "fig, axes = plt.subplots(2, 5)\n",
    "\n",
    "for i in range(2):\n",
    "    for j in range(5):\n",
    "        idx = j + i * 2\n",
    "        axes[i, j].imshow(model.coef_[i].reshape(28,28), cmap = 'gray')\n",
    "        axes[i, j].axis('off')\n",
    "    \n",
    "plt.show()"
   ]
  },
  {
   "cell_type": "code",
   "execution_count": 11,
   "metadata": {},
   "outputs": [
    {
     "data": {
      "image/png": "[encoded data removed]",
      "text/plain": [
       "<Figure size 432x288 with 10 Axes>"
      ]
     },
     "metadata": {},
     "output_type": "display_data"
    }
   ],
   "source": [
    "# visualization of non-linear model\n",
    "fig, axes = plt.subplots(2, 5)\n",
    "\n",
    "vmin, vmax = model2.coefs_[1].min(), model2.coefs_[1].max()\n",
    "for c, x in zip(model2.coefs_[1].T, axes.ravel()):\n",
    "    x.imshow(c.reshape(28, 28), cmap = plt.cm.gray, vmin = .5*vmin, vmax = .5 * vmax)\n",
    "    x.set_xticks(())\n",
    "    x.set_yticks(())\n",
    "    #plt.getp(plt.title('title'))\n",
    "    \n",
    "plt.show()\n",
    "    \n",
    "    "
   ]
  },
  {
   "cell_type": "markdown",
   "metadata": {},
   "source": [
    "## 7. Report test accuracy of both models and analyze confusion matrices\n",
    "\n",
    "Get the accuracy.\n",
    "\n",
    "\n",
    "For confusion matrix, use `sklearn.metrics.confusion_matrix`\n",
    "\n",
    "Firstly, compute confusion matrix using your model and test data.\n",
    "\n",
    "Then, given the defition:\n",
    "\n",
    "By definition a confusion matrix :math:`C` is such that :math:`C_{i, j}`\n",
    "    is equal to the number of observations known to be in group :math:`i` and\n",
    "    predicted to be in group :math:`j`.\n",
    "\n",
    "\n",
    "Estimate what is the most confusing pair (i -> j) of classes for you model (write code for that!).\n",
    "\n",
    "You will notice that confusing pair usually has similar digits '' on average '' e.g. 1 and 7 or 7 and 9"
   ]
  },
  {
   "cell_type": "code",
   "execution_count": 12,
   "metadata": {},
   "outputs": [
    {
     "name": "stdout",
     "output_type": "stream",
     "text": [
      "Training-Set Analysis\n",
      "0.92625\n",
      "Validation-Set Analysis\n",
      "0.91236\n"
     ]
    }
   ],
   "source": [
    "# put your code here...\n",
    "# examine how well model scores on training data\n",
    "s1 = model.score(train_data, train_labels)\n",
    "\n",
    "print(\"Training-Set Analysis\")\n",
    "print(s1)\n",
    "\n",
    "# do validation\n",
    "s2 = model.score(test_data, test_labels)\n",
    "\n",
    "print(\"Validation-Set Analysis\")\n",
    "print(s2)\n",
    "\n"
   ]
  },
  {
   "cell_type": "code",
   "execution_count": 13,
   "metadata": {},
   "outputs": [
    {
     "name": "stdout",
     "output_type": "stream",
     "text": [
      "Training-Set Analysis\n",
      "1.0\n",
      "Validation-Set Analysis\n",
      "0.95492\n"
     ]
    }
   ],
   "source": [
    "# examine how well model scores on training data\n",
    "s1 = model2.score(train_data, train_labels)\n",
    "\n",
    "print(\"Training-Set Analysis\")\n",
    "print(s1)\n",
    "\n",
    "# do validation\n",
    "s2 = model2.score(test_data, test_labels)\n",
    "\n",
    "print(\"Validation-Set Analysis\")\n",
    "print(s2)"
   ]
  },
  {
   "cell_type": "markdown",
   "metadata": {},
   "source": [
    "#### Why does non-linear model give better performance?\n",
    "\n",
    "The non-linear model is more flexible in how it can categorize data, and this flexibility allows it to handle more complex cases that a linear model might over-simplify because it is unable to do the additional calculations that would give these close to \"border-line\" cases more correct answers on average."
   ]
  },
  {
   "cell_type": "markdown",
   "metadata": {},
   "source": [
    "Side note: 1.0 accuracy on training-set could potentially be a red flag for over fitting. However, since the validation set has an accuracy >90% the model is likely good."
   ]
  },
  {
   "cell_type": "code",
   "execution_count": 14,
   "metadata": {},
   "outputs": [
    {
     "name": "stdout",
     "output_type": "stream",
     "text": [
      "[[4811    1   19   16    7   29   36    4   39   10]\n",
      " [   1 5520   29    9    1    9   13    3   63    8]\n",
      " [  27   52 4432   80   39   29   76   42  198   19]\n",
      " [  20   19  155 4522    6  123   19   28  133   49]\n",
      " [  10   19   28   10 4431   12   50   15   39  184]\n",
      " [  63   33   24  176   49 3893   75   21  161   67]\n",
      " [  56   18   44    6   27   84 4721    0   42    1]\n",
      " [  11   22   62   16   47    6    0 4812   29  198]\n",
      " [  54  118   58  155   57  129   32   31 4187   95]\n",
      " [  35   19   28   71  166   32    2  125   59 4289]]\n"
     ]
    }
   ],
   "source": [
    "# confusion matrix for testing data using linear model\n",
    "\n",
    "y_pred = model.predict(test_data)\n",
    "c1 = confusion_matrix(test_labels, y_pred)\n",
    "\n",
    "print(c1)\n"
   ]
  },
  {
   "cell_type": "code",
   "execution_count": 15,
   "metadata": {},
   "outputs": [
    {
     "name": "stdout",
     "output_type": "stream",
     "text": [
      "2 8\n"
     ]
    }
   ],
   "source": [
    "# find most confusing pair for linear model\n",
    "\n",
    "max_i = 0;\n",
    "max_j = 0;\n",
    "max_conf = 0;\n",
    "\n",
    "for i in range(10):\n",
    "    for j in range(10):\n",
    "        diff = c1[i][j]\n",
    "        if (i != j):\n",
    "            #print(i, j)\n",
    "            if (diff > max_conf):\n",
    "                max_conf = diff\n",
    "                max_i = i\n",
    "                max_j = j\n",
    "\n",
    "print(max_i, max_j)\n",
    "        \n"
   ]
  },
  {
   "cell_type": "code",
   "execution_count": 16,
   "metadata": {},
   "outputs": [
    {
     "name": "stdout",
     "output_type": "stream",
     "text": [
      "[[4819    3   15    7    3   27   46    5   31   16]\n",
      " [   2 5569   26   14    8    5    9   11    9    3]\n",
      " [  12   21 4770   47   19    4   19   39   54    9]\n",
      " [   7   16   67 4810    4   59    6   15   56   34]\n",
      " [  12   18   14    2 4583    3   25   26   19   96]\n",
      " [  25    8   12   83   10 4289   38   21   45   31]\n",
      " [  41    8   17    3   21   42 4830    1   35    1]\n",
      " [  12   14   37   23   26    7    1 4981   10   92]\n",
      " [  12   37   47   70   16   53   33   16 4564   68]\n",
      " [  17   12    7   43   74   24    5   64   49 4531]]\n"
     ]
    }
   ],
   "source": [
    "# confusion matrix for testing data using non-linear model\n",
    "\n",
    "y_pred2 = model2.predict(test_data)\n",
    "c2 = confusion_matrix(test_labels, y_pred2)\n",
    "\n",
    "print(c2)\n"
   ]
  },
  {
   "cell_type": "code",
   "execution_count": 17,
   "metadata": {},
   "outputs": [
    {
     "name": "stdout",
     "output_type": "stream",
     "text": [
      "4 9\n"
     ]
    }
   ],
   "source": [
    "# find most confusing pair for non-linear model\n",
    "\n",
    "max_i = 0;\n",
    "max_j = 0;\n",
    "max_conf = 0;\n",
    "\n",
    "for i in range(10):\n",
    "    for j in range(10):\n",
    "        diff = c2[i][j]\n",
    "        if (i != j):\n",
    "            #print(i, j)\n",
    "            if (diff > max_conf):\n",
    "                max_conf = diff\n",
    "                max_i = i\n",
    "                max_j = j\n",
    "\n",
    "print(max_i, max_j)\n"
   ]
  },
  {
   "cell_type": "markdown",
   "metadata": {},
   "source": [
    "# MLP Classifier with another random seed\n",
    "\n",
    "Train Non-linear model with a different initialization (make sure that random seed is different) and compare the most confusing pair with the first trained model. Is it different? Provide some argument why it can be different."
   ]
  },
  {
   "cell_type": "code",
   "execution_count": 18,
   "metadata": {},
   "outputs": [],
   "source": [
    "# define model\n",
    "random_seed = 8\n",
    "model3 = MLPClassifier(solver = 'sgd', learning_rate_init=.0001, hidden_layer_sizes=(784,), max_iter = 100, random_state = random_seed)\n"
   ]
  },
  {
   "cell_type": "code",
   "execution_count": 19,
   "metadata": {},
   "outputs": [
    {
     "data": {
      "text/plain": [
       "MLPClassifier(activation='relu', alpha=0.0001, batch_size='auto', beta_1=0.9,\n",
       "              beta_2=0.999, early_stopping=False, epsilon=1e-08,\n",
       "              hidden_layer_sizes=(784,), learning_rate='constant',\n",
       "              learning_rate_init=0.0001, max_iter=100, momentum=0.9,\n",
       "              n_iter_no_change=10, nesterovs_momentum=True, power_t=0.5,\n",
       "              random_state=8, shuffle=True, solver='sgd', tol=0.0001,\n",
       "              validation_fraction=0.1, verbose=False, warm_start=False)"
      ]
     },
     "execution_count": 19,
     "metadata": {},
     "output_type": "execute_result"
    }
   ],
   "source": [
    "# fit the model to the data\n",
    "model3.fit(train_data, train_labels)"
   ]
  },
  {
   "cell_type": "code",
   "execution_count": 20,
   "metadata": {},
   "outputs": [
    {
     "name": "stdout",
     "output_type": "stream",
     "text": [
      "Training-Set Analysis\n",
      "1.0\n",
      "Validation-Set Analysis\n",
      "0.9539\n"
     ]
    }
   ],
   "source": [
    "# examine how well model scores on training data\n",
    "s1 = model3.score(train_data, train_labels)\n",
    "\n",
    "print(\"Training-Set Analysis\")\n",
    "print(s1)\n",
    "\n",
    "# do validation\n",
    "s2 = model3.score(test_data, test_labels)\n",
    "\n",
    "print(\"Validation-Set Analysis\")\n",
    "print(s2)"
   ]
  },
  {
   "cell_type": "code",
   "execution_count": 21,
   "metadata": {},
   "outputs": [
    {
     "name": "stdout",
     "output_type": "stream",
     "text": [
      "[[4833    1   14   10    7   22   38   10   27   10]\n",
      " [   2 5576   15    7    7    1    3   16   24    5]\n",
      " [  20   23 4746   42   20   12   16   41   58   16]\n",
      " [   6   12   60 4786    4   83    7   22   62   32]\n",
      " [  11   17   25    2 4572    9   18   32   16   96]\n",
      " [  17    7    5   76    8 4321   34   12   55   27]\n",
      " [  53    8   23    1   37   64 4777    5   29    2]\n",
      " [   8   11   44   27   40   10    2 4968   14   79]\n",
      " [  16   37   45   74   19   50   20   14 4584   57]\n",
      " [  17    8    6   26   85   34    1   71   46 4532]]\n"
     ]
    }
   ],
   "source": [
    "# look at the confusion matrix\n",
    "\n",
    "y_pred2 = model3.predict(test_data)\n",
    "c3 = confusion_matrix(test_labels, y_pred2)\n",
    "\n",
    "print(c3)\n"
   ]
  },
  {
   "cell_type": "code",
   "execution_count": 22,
   "metadata": {},
   "outputs": [
    {
     "name": "stdout",
     "output_type": "stream",
     "text": [
      "4 9\n"
     ]
    }
   ],
   "source": [
    "# find most confusing pair for new non-linear model\n",
    "\n",
    "max_i = 0;\n",
    "max_j = 0;\n",
    "max_conf = 0;\n",
    "\n",
    "for i in range(10):\n",
    "    for j in range(10):\n",
    "        diff = c3[i][j]\n",
    "        if (i != j):\n",
    "            #print(i, j)\n",
    "            if (diff > max_conf):\n",
    "                max_conf = diff\n",
    "                max_i = i\n",
    "                max_j = j\n",
    "\n",
    "print(max_i, max_j)\n"
   ]
  },
  {
   "cell_type": "markdown",
   "metadata": {},
   "source": [
    "In this case, using random_state = 1 and random_state = 8 both gave the same result that 4 and 9 were the most commonly confused pair (with 4s beign predicted as 9s). However, potentially if you have a start state that begins at a very different state, the model could be going to a different local minimum in its stochastic gradient descent."
   ]
  },
  {
   "cell_type": "markdown",
   "metadata": {},
   "source": [
    "# THE END\n"
   ]
  },
  {
   "cell_type": "code",
   "execution_count": null,
   "metadata": {},
   "outputs": [],
   "source": []
  }
 ],
 "metadata": {
  "kernelspec": {
   "display_name": "Python 3",
   "language": "python",
   "name": "python3"
  },
  "language_info": {
   "codemirror_mode": {
    "name": "ipython",
    "version": 3
   },
   "file_extension": ".py",
   "mimetype": "text/x-python",
   "name": "python",
   "nbconvert_exporter": "python",
   "pygments_lexer": "ipython3",
   "version": "3.8.3"
  }
 },
 "nbformat": 4,
 "nbformat_minor": 4
}
